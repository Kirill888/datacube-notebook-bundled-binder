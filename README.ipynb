{
 "cells": [
  {
   "cell_type": "markdown",
   "metadata": {},
   "source": [
    "# luigidifraia/datacube-notebook-bundled-binder on Binder\n",
    "\n",
    "Run the cells below to inspect what's in the [luigidifraia/datacube-notebook-bundled-binder] image. \n",
    "\n",
    "Click here to open a [JupyterLab](../lab) tab. Click here to open a [Classic Notebook](../notebooks) tab."
   ]
  },
  {
   "cell_type": "code",
   "execution_count": 6,
   "metadata": {},
   "outputs": [
    {
     "name": "stdout",
     "output_type": "stream",
     "text": [
      "2019-07-09 10:06:13,049 1765 datacube \u001b[37mINFO\u001b[0m Running datacube command: /opt/conda/envs/cubeenv/bin/datacube -v system check\n",
      "Version:       \u001b[1m1.7\u001b[0m\n",
      "Config files:  \u001b[1m/etc/datacube.conf\u001b[0m\n",
      "Host:          \u001b[1mdatacubedb-postgresql.datacubedb.svc.cluster.local:5432\u001b[0m\n",
      "Database:      \u001b[1mdatacube\u001b[0m\n",
      "User:          \u001b[1mpostgres\u001b[0m\n",
      "Environment:   \u001b[1mNone\u001b[0m\n",
      "Index Driver:  \u001b[1mdefault\u001b[0m\n",
      "\n",
      "Valid connection:\t\u001b[1mYES\u001b[0m\n"
     ]
    }
   ],
   "source": [
    "!datacube -v system check"
   ]
  },
  {
   "cell_type": "markdown",
   "metadata": {},
   "source": [
    "The notebook server is running as the following user."
   ]
  },
  {
   "cell_type": "code",
   "execution_count": null,
   "metadata": {},
   "outputs": [],
   "source": [
    "!id"
   ]
  },
  {
   "cell_type": "markdown",
   "metadata": {},
   "source": [
    "Here's the contents of that user's home directory, the default notebook directory for the server."
   ]
  },
  {
   "cell_type": "code",
   "execution_count": null,
   "metadata": {},
   "outputs": [],
   "source": [
    "!ls -al"
   ]
  },
  {
   "cell_type": "markdown",
   "metadata": {},
   "source": [
    "Conda is available in the user's path."
   ]
  },
  {
   "cell_type": "code",
   "execution_count": null,
   "metadata": {},
   "outputs": [],
   "source": [
    "!which conda"
   ]
  },
  {
   "cell_type": "markdown",
   "metadata": {},
   "source": [
    "The following packages are conda-installed in the datacube image to support [Jupyter Notebook](https://github.com/jupyter/notebook), [JupyterLab](https://github.com/jupyterlab/jupyterlab), and their use in [JupyterHub](https://github.com/jupyterhub/jupyterhub) environments (e.g., [MyBinder](http://mybinder.org/))."
   ]
  },
  {
   "cell_type": "code",
   "execution_count": null,
   "metadata": {},
   "outputs": [],
   "source": [
    "!conda list"
   ]
  }
 ],
 "metadata": {
  "kernelspec": {
   "display_name": "Python [conda env:cubeenv]",
   "language": "python",
   "name": "conda-env-cubeenv-py"
  },
  "language_info": {
   "codemirror_mode": {
    "name": "ipython",
    "version": 3
   },
   "file_extension": ".py",
   "mimetype": "text/x-python",
   "name": "python",
   "nbconvert_exporter": "python",
   "pygments_lexer": "ipython3",
   "version": "3.6.7"
  }
 },
 "nbformat": 4,
 "nbformat_minor": 2
}

